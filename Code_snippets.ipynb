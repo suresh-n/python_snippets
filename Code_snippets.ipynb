## this code snippet help export the db data to csv files
import pandas as pd
import sqlite3
con = sqlite3.connect('./users.db')
cur = con.cursor()
df = pd.read_sql('SELECT * from user', con)
df.to_csv('user.csv', index=False)
