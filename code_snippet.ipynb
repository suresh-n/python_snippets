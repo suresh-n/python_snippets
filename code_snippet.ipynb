{
 "cells": [
  {
   "cell_type": "code",
   "execution_count": 1,
   "metadata": {},
   "outputs": [],
   "source": [
    "#export db content\n",
    "import pandas as pd\n",
    "import sqlite3\n",
    "con = sqlite3.connect('./logs.db')\n",
    "cur = con.cursor()\n",
    "df = pd.read_sql('SELECT * from logs', con)\n",
    "df.to_csv('logs.csv', index=False)  "
   ]
  },
  {
   "cell_type": "code",
   "execution_count": null,
   "metadata": {},
   "outputs": [],
   "source": [
    "#create a DB & import data into it from csv file\n",
    "import sqlite3\n",
    "con = sqlite3.connect('./mydb.db')\n",
    "cur = con.cursor()\n",
    "cur.execute('''CREATE TABLE IF NOT EXISTS monthly (col1, col2)''')\n",
    "con.commit()\n",
    "\n",
    "users = pd.read_csv('weekly.csv')\n",
    "# write the data to a sqlite table\n",
    "users.to_sql('weekly', con, if_exists='append', index = False)"
   ]
  },
  {
   "cell_type": "code",
   "execution_count": null,
   "metadata": {},
   "outputs": [],
   "source": []
  }
 ],
 "metadata": {
  "kernelspec": {
   "display_name": "Python 3.10.6 ('venv': venv)",
   "language": "python",
   "name": "python3"
  },
  "language_info": {
   "codemirror_mode": {
    "name": "ipython",
    "version": 3
   },
   "file_extension": ".py",
   "mimetype": "text/x-python",
   "name": "python",
   "nbconvert_exporter": "python",
   "pygments_lexer": "ipython3",
   "version": "3.10.6"
  },
  "orig_nbformat": 4,
  "vscode": {
   "interpreter": {
    "hash": "3441fde28e0ae9b45e69e71b11236c57113ef6ad6c85714a11a1f8332b8d59c9"
   }
  }
 },
 "nbformat": 4,
 "nbformat_minor": 2
}
