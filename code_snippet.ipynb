{
 "cells": [
  {
   "cell_type": "code",
   "execution_count": 1,
   "metadata": {},
   "outputs": [],
   "source": [
    "#export db content\n",
    "import pandas as pd\n",
    "import sqlite3\n",
    "con = sqlite3.connect('./logs.db')\n",
    "cur = con.cursor()\n",
    "df = pd.read_sql('SELECT * from logs', con)\n",
    "df.to_csv('logs.csv', index=False)"
   ]
  }
 ],
 "metadata": {
  "kernelspec": {
   "display_name": "Python 3.10.6 ('venv': venv)",
   "language": "python",
   "name": "python3"
  },
  "language_info": {
   "codemirror_mode": {
    "name": "ipython",
    "version": 3
   },
   "file_extension": ".py",
   "mimetype": "text/x-python",
   "name": "python",
   "nbconvert_exporter": "python",
   "pygments_lexer": "ipython3",
   "version": "3.10.8"
  },
  "orig_nbformat": 4,
  "vscode": {
   "interpreter": {
    "hash": "3441fde28e0ae9b45e69e71b11236c57113ef6ad6c85714a11a1f8332b8d59c9"
   }
  }
 },
 "nbformat": 4,
 "nbformat_minor": 2
}
